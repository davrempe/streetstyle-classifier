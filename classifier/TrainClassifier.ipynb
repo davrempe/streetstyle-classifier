{
 "cells": [
  {
   "cell_type": "code",
   "execution_count": null,
   "metadata": {
    "collapsed": true
   },
   "outputs": [],
   "source": [
    "import torch\n",
    "import torch.nn as nn\n",
    "import torchvision\n",
    "from torchvision import transforms\n",
    "from torch.utils.data import Dataset, DataLoader\n",
    "import matplotlib\n",
    "import matplotlib.pyplot as plt\n",
    "import numpy as np\n",
    "\n",
    "get_ipython().magic('matplotlib inline')\n",
    "get_ipython().magic('reload_ext autoreload')\n",
    "get_ipython().magic('autoreload 2')"
   ]
  },
  {
   "cell_type": "markdown",
   "metadata": {},
   "source": [
    "# StreetStyle Unit Testing"
   ]
  },
  {
   "cell_type": "code",
   "execution_count": null,
   "metadata": {
    "collapsed": true
   },
   "outputs": [],
   "source": [
    "from streetstyle_dataset import StreetStyleDataset\n",
    "import data_utils\n",
    "\n",
    "transform = transforms.Compose([\n",
    "        data_utils.ResizeTransform(299),\n",
    "        transforms.Normalize([0.485, 0.456, 0.406], [0.229, 0.224, 0.225])\n",
    "    ])\n",
    "dataset = StreetStyleDataset('../data/streetstyle27k', '../data', transform=transform)\n",
    "\n",
    "def imshow(inp):\n",
    "    \"\"\"Imshow for Tensor.\"\"\"\n",
    "    plt.figure()\n",
    "    inp = inp.numpy().transpose((1, 2, 0))\n",
    "    mean = np.array([0.485, 0.456, 0.406])\n",
    "    std = np.array([0.229, 0.224, 0.225])\n",
    "    inp = std * inp + mean\n",
    "    inp = np.clip(inp, 0, 1)\n",
    "    plt.imshow(inp)\n",
    "\n",
    "images, labels = dataset.next_train()\n",
    "img = torchvision.utils.make_grid(images[:4], nrow=2)\n",
    "imshow(img)\n",
    "\n",
    "plt.figure()\n",
    "images, labels = dataset.next_eval()\n",
    "img = torchvision.utils.make_grid(images[:4], nrow=2)\n",
    "imshow(img)\n",
    "\n",
    "images, labels = dataset.next_test()\n",
    "img = torchvision.utils.make_grid(images[:4], nrow=2)\n",
    "imshow(img)"
   ]
  },
  {
   "cell_type": "code",
   "execution_count": null,
   "metadata": {
    "collapsed": true
   },
   "outputs": [],
   "source": [
    "from classifier_model import StreetStyleClassifier\n",
    "from torch.autograd import Variable\n",
    "\n",
    "imag_var = Variable(images)\n",
    "model = StreetStyleClassifier()\n",
    "model.set_eval_attributes([True, True, False, True, False, False,False,False,False,False,False,False])\n",
    "out = model(imag_var)\n",
    "print(out)"
   ]
  },
  {
   "cell_type": "markdown",
   "metadata": {},
   "source": [
    "# Streetstyle Model Training"
   ]
  },
  {
   "cell_type": "code",
   "execution_count": null,
   "metadata": {
    "collapsed": true
   },
   "outputs": [],
   "source": [
    "import torch\n",
    "import torch.nn as nn\n",
    "import torchvision\n",
    "import matplotlib\n",
    "import matplotlib.pyplot as plt\n",
    "import numpy as np\n",
    "\n",
    "get_ipython().magic('matplotlib inline')\n",
    "get_ipython().magic('reload_ext autoreload')\n",
    "get_ipython().magic('autoreload 2')\n",
    "\n",
    "from streetstyle_classifier_test import StreetStyleClassifierTest"
   ]
  },
  {
   "cell_type": "code",
   "execution_count": null,
   "metadata": {
    "collapsed": true
   },
   "outputs": [],
   "source": [
    "test = StreetStyleClassifierTest(use_gpu=False)"
   ]
  },
  {
   "cell_type": "code",
   "execution_count": null,
   "metadata": {
    "collapsed": true
   },
   "outputs": [],
   "source": [
    "test.create_data_loaders()"
   ]
  },
  {
   "cell_type": "code",
   "execution_count": null,
   "metadata": {
    "collapsed": true
   },
   "outputs": [],
   "source": [
    "test.visualize_single_batch()"
   ]
  },
  {
   "cell_type": "code",
   "execution_count": null,
   "metadata": {
    "collapsed": false
   },
   "outputs": [],
   "source": [
    "def get_num_parameters(model):\n",
    "    total_num=0\n",
    "    if type(model) == type(dict()):\n",
    "        for key in model:\n",
    "            for p in model[key].parameters():\n",
    "                total_num+=p.nelement()\n",
    "    else:\n",
    "        for p in model.parameters():\n",
    "            total_num+=p.nelement()\n",
    "    return total_num\n",
    "\n",
    "test.create_model()\n",
    "print(test.model)\n",
    "print('num params: ' + str(get_num_parameters(test.model)))"
   ]
  },
  {
   "cell_type": "code",
   "execution_count": null,
   "metadata": {
    "collapsed": true
   },
   "outputs": [],
   "source": [
    "test.create_loss_function()"
   ]
  },
  {
   "cell_type": "code",
   "execution_count": null,
   "metadata": {
    "collapsed": true
   },
   "outputs": [],
   "source": [
    "test.create_optimizer()"
   ]
  },
  {
   "cell_type": "code",
   "execution_count": null,
   "metadata": {
    "collapsed": true
   },
   "outputs": [],
   "source": [
    "kwargs = {}\n",
    "kwargs[\"visualize_every_n_batches\"] = 50\n",
    "kwargs[\"save_every_n_batches\"] = 200\n",
    "test.train_model(num_iters=10000, **kwargs)"
   ]
  },
  {
   "cell_type": "code",
   "execution_count": null,
   "metadata": {
    "collapsed": true
   },
   "outputs": [],
   "source": [
    "# load best model from saved checkpoint\n",
    "checkpoint_name = './trained_models/180220_1519208350_2600.tar'\n",
    "log=torch.load(checkpoint_name)\n",
    "model=log['best_model']\n",
    "test.log = log\n",
    "test.model = model"
   ]
  },
  {
   "cell_type": "code",
   "execution_count": null,
   "metadata": {
    "collapsed": true,
    "scrolled": true
   },
   "outputs": [],
   "source": [
    "# plot the losses and accuracies\n",
    "plt.figure()\n",
    "matplotlib.rcParams['font.size'] = 14\n",
    "for key in test.log:\n",
    "    if 'val_mean_class_acc' == key and test.log[key] is not None:\n",
    "        y = [np.sum(x) for x in test.log[key]]\n",
    "        x = np.arange(0, 2601, 200)\n",
    "        plt.plot(x, y, label=key)\n",
    "        plt.legend()\n",
    "        plt.ylabel('Summed MCA')\n",
    "        plt.xlabel('Iterations')\n",
    "        plt.show()"
   ]
  },
  {
   "cell_type": "code",
   "execution_count": null,
   "metadata": {
    "collapsed": true
   },
   "outputs": [],
   "source": [
    "running_loss, running_correct, test_mean_class_acc = test.test_model()"
   ]
  },
  {
   "cell_type": "code",
   "execution_count": null,
   "metadata": {
    "collapsed": true
   },
   "outputs": [],
   "source": [
    "print('Test Loss: ' + str(running_loss))\n",
    "print('Test Accuracy: ' + str(running_correct))\n",
    "print('Test MCA: ' + str(test_mean_class_acc))"
   ]
  },
  {
   "cell_type": "markdown",
   "metadata": {
    "collapsed": true
   },
   "source": [
    "# News Anchor Unit Testing"
   ]
  },
  {
   "cell_type": "code",
   "execution_count": null,
   "metadata": {
    "collapsed": true
   },
   "outputs": [],
   "source": [
    "import torch\n",
    "import torch.nn as nn\n",
    "import torchvision\n",
    "from torchvision import transforms\n",
    "from torch.utils.data import Dataset, DataLoader\n",
    "import matplotlib\n",
    "import matplotlib.pyplot as plt\n",
    "import numpy as np\n",
    "\n",
    "get_ipython().magic('matplotlib inline')\n",
    "get_ipython().magic('reload_ext autoreload')\n",
    "get_ipython().magic('autoreload 2')"
   ]
  },
  {
   "cell_type": "code",
   "execution_count": null,
   "metadata": {
    "collapsed": false
   },
   "outputs": [],
   "source": [
    "from newsAnchor_dataset_train import NewsAnchorDataset\n",
    "import data_utils\n",
    "\n",
    "transform = transforms.Compose([\n",
    "        data_utils.ResizeTransform(299),\n",
    "        transforms.Normalize([0.485, 0.456, 0.406], [0.229, 0.224, 0.225])\n",
    "    ])\n",
    "dataset = NewsAnchorDataset('../data/cloth/cloth_label/', '../data/newsAnchor_train_manifest.pkl', transform=transform, )\n",
    "\n",
    "def imshow(inp):\n",
    "    \"\"\"Imshow for Tensor.\"\"\"\n",
    "    plt.figure()\n",
    "    inp = inp.numpy().transpose((1, 2, 0))\n",
    "    mean = np.array([0.485, 0.456, 0.406])\n",
    "    std = np.array([0.229, 0.224, 0.225])\n",
    "    inp = std * inp + mean\n",
    "    inp = np.clip(inp, 0, 1)\n",
    "    plt.imshow(inp)\n",
    "\n",
    "images, labels = dataset.next_train()\n",
    "img = torchvision.utils.make_grid(images[:4], nrow=2)\n",
    "imshow(img)\n",
    "\n",
    "images, labels = dataset.next_test()\n",
    "print(images.size())\n",
    "img = torchvision.utils.make_grid(images[:4], nrow=2)\n",
    "imshow(img)\n",
    "images, labels = dataset.next_test()\n",
    "print(images.size())\n",
    "img = torchvision.utils.make_grid(images[:4], nrow=2)\n",
    "imshow(img)"
   ]
  },
  {
   "cell_type": "markdown",
   "metadata": {},
   "source": [
    "# News Anchor Model Training\n",
    "\n"
   ]
  },
  {
   "cell_type": "code",
   "execution_count": null,
   "metadata": {
    "collapsed": true
   },
   "outputs": [],
   "source": [
    "import torch\n",
    "import torch.nn as nn\n",
    "import torchvision\n",
    "import matplotlib\n",
    "import matplotlib.pyplot as plt\n",
    "import numpy as np\n",
    "\n",
    "get_ipython().magic('matplotlib inline')\n",
    "get_ipython().magic('reload_ext autoreload')\n",
    "get_ipython().magic('autoreload 2')\n",
    "\n",
    "from newsanchor_classifier_test import NewsAnchorClassifierTest"
   ]
  },
  {
   "cell_type": "code",
   "execution_count": null,
   "metadata": {
    "collapsed": true
   },
   "outputs": [],
   "source": [
    "test = NewsAnchorClassifierTest('./trained_models/180220_1519208350_2600.tar', use_gpu=True)\n",
    "# test = NewsAnchorClassifierTest('./log/testcpustreetstylemodel.tar', use_gpu=False)"
   ]
  },
  {
   "cell_type": "code",
   "execution_count": null,
   "metadata": {
    "collapsed": true
   },
   "outputs": [],
   "source": [
    "test.create_data_loaders()"
   ]
  },
  {
   "cell_type": "code",
   "execution_count": null,
   "metadata": {
    "collapsed": false
   },
   "outputs": [],
   "source": [
    "test.visualize_single_batch()"
   ]
  },
  {
   "cell_type": "code",
   "execution_count": null,
   "metadata": {
    "collapsed": false
   },
   "outputs": [],
   "source": [
    "def get_num_parameters(model):\n",
    "    total_num=0\n",
    "    if type(model) == type(dict()):\n",
    "        for key in model:\n",
    "            for p in model[key].parameters():\n",
    "                total_num+=p.nelement()\n",
    "    else:\n",
    "        for p in model.parameters():\n",
    "            total_num+=p.nelement()\n",
    "    return total_num\n",
    "\n",
    "test.create_model()\n",
    "print(test.model)\n",
    "print('num params: ' + str(get_num_parameters(test.model)))"
   ]
  },
  {
   "cell_type": "code",
   "execution_count": null,
   "metadata": {
    "collapsed": true
   },
   "outputs": [],
   "source": [
    "test.create_loss_function()"
   ]
  },
  {
   "cell_type": "code",
   "execution_count": null,
   "metadata": {
    "collapsed": true
   },
   "outputs": [],
   "source": [
    "test.create_optimizer()"
   ]
  },
  {
   "cell_type": "code",
   "execution_count": null,
   "metadata": {
    "collapsed": false
   },
   "outputs": [],
   "source": [
    "kwargs = {}\n",
    "kwargs[\"visualize_every_n_batches\"] = 25\n",
    "kwargs[\"save_every_n_batches\"] = 50\n",
    "test.train_model(num_iters=5000, **kwargs)"
   ]
  },
  {
   "cell_type": "code",
   "execution_count": null,
   "metadata": {
    "collapsed": true
   },
   "outputs": [],
   "source": [
    "# load best model from saved checkpoint\n",
    "checkpoint_name = './trained_models/newsanchor_850iters_loss_1-3lr_earlystopping.tar'\n",
    "# checkpoint_name = './trained_models/newsanchor_300iters_loss_earlystopping.tar'\n",
    "log=torch.load(checkpoint_name)\n",
    "model=log['best_model']\n",
    "test.log = log\n",
    "test.model = model"
   ]
  },
  {
   "cell_type": "code",
   "execution_count": null,
   "metadata": {
    "collapsed": true
   },
   "outputs": [],
   "source": [
    "# plot the losses and accuracies\n",
    "plt.figure()\n",
    "matplotlib.rcParams['font.size'] = 14\n",
    "for key in test.log:\n",
    "    if 'val_mean_class_acc' == key and test.log[key] is not None:\n",
    "        y = [np.sum(x) for x in test.log[key]]\n",
    "        x = np.arange(0, 2601, 200)\n",
    "        plt.plot(x, y, label=key)\n",
    "        plt.legend()\n",
    "        plt.ylabel('Summed MCA')\n",
    "        plt.xlabel('Iterations')\n",
    "        plt.show()"
   ]
  },
  {
   "cell_type": "code",
   "execution_count": null,
   "metadata": {
    "collapsed": true
   },
   "outputs": [],
   "source": [
    "running_loss, running_correct = test.test_model()"
   ]
  },
  {
   "cell_type": "code",
   "execution_count": null,
   "metadata": {
    "collapsed": false
   },
   "outputs": [],
   "source": [
    "print('Test Loss: ' + str(running_loss))\n",
    "print('Test Accuracy: ' + str(running_correct))\n",
    "#print('Test MCA: ' + str(test_mean_class_acc))"
   ]
  },
  {
   "cell_type": "code",
   "execution_count": null,
   "metadata": {
    "collapsed": true
   },
   "outputs": [],
   "source": []
  }
 ],
 "metadata": {
  "kernelspec": {
   "display_name": "Python 3",
   "language": "python",
   "name": "python3"
  },
  "language_info": {
   "codemirror_mode": {
    "name": "ipython",
    "version": 3
   },
   "file_extension": ".py",
   "mimetype": "text/x-python",
   "name": "python",
   "nbconvert_exporter": "python",
   "pygments_lexer": "ipython3",
   "version": "3.5.2"
  }
 },
 "nbformat": 4,
 "nbformat_minor": 2
}
