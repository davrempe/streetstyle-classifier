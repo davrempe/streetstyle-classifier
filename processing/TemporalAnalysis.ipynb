{
 "cells": [
  {
   "cell_type": "code",
   "execution_count": null,
   "metadata": {
    "collapsed": true
   },
   "outputs": [],
   "source": [
    "import pickle\n",
    "import os\n",
    "import sys\n",
    "import numpy as np\n",
    "\n",
    "import matplotlib\n",
    "import matplotlib.pyplot as plt\n",
    "import numpy as np\n",
    "\n",
    "get_ipython().magic('matplotlib inline')\n",
    "get_ipython().magic('reload_ext autoreload')\n",
    "get_ipython().magic('autoreload 2')\n",
    "\n",
    "# TODO\n",
    "# Look at specific weird outlier points to see what's going on (especially for suit frequency patterns)\n",
    "# Plot everything (aka abstract the code so I can just pass in options and it will plot stuff)\n",
    "# day of week plots"
   ]
  },
  {
   "cell_type": "markdown",
   "metadata": {},
   "source": [
    "# Do All Processing"
   ]
  },
  {
   "cell_type": "code",
   "execution_count": null,
   "metadata": {
    "collapsed": false
   },
   "outputs": [],
   "source": [
    "from temporal_processing import TimeAnalysis\n",
    "\n",
    "data_file = '../data/newsAnchor_all_data_random.pkl'\n",
    "analysis = TimeAnalysis(data_file)"
   ]
  },
  {
   "cell_type": "code",
   "execution_count": null,
   "metadata": {
    "collapsed": false
   },
   "outputs": [],
   "source": [
    "# analysis_type, attribute, gender_constraint=None, network_constraint=None)\n",
    "constraint_list = [#(TimeAnalysis.CONSTRAINT_FEMALE, TimeAnalysis.CONSTRAINT_CNN), \\\n",
    "                   (TimeAnalysis.CONSTRAINT_FEMALE, TimeAnalysis.CONSTRAINT_FOX), \\\n",
    "                   (TimeAnalysis.CONSTRAINT_FEMALE, TimeAnalysis.CONSTRAINT_MSNBC)]\n",
    "# constraint_list = [(None, TimeAnalysis.CONSTRAINT_CNN), \\\n",
    "#                    (None, TimeAnalysis.CONSTRAINT_FOX), \\\n",
    "#                    (None, TimeAnalysis.CONSTRAINT_MSNBC)]\n",
    "# constraint_list = [(None, None)]\n",
    "analysis.run_analysis(TimeAnalysis.TYPE_ALL_TIME_BY_WEEK, 7, constraint_list)"
   ]
  },
  {
   "cell_type": "code",
   "execution_count": null,
   "metadata": {
    "collapsed": false
   },
   "outputs": [],
   "source": [
    "attribs_to_run = analysis.get_attribute_list()\n",
    "types_to_run = analysis.get_analysis_type_list()\n",
    "genders_to_run = analysis.get_gender_constraint_list()\n",
    "networks_to_run = analysis.get_network_constraint_list()\n",
    "\n",
    "for attrib in attribs_to_run:\n",
    "    print('Attrib ' + str(attrib) + '...')\n",
    "    for analysis_type in types_to_run:\n",
    "        print('Analysis ' + str(analysis_type) + '...')\n",
    "        # no constraints\n",
    "        analysis.run_analysis(analysis_type, attrib, [(None, None)])\n",
    "        print('No constraints done!')\n",
    "        # single constraints\n",
    "        for gender in genders_to_run:\n",
    "            analysis.run_analysis(analysis_type, attrib, [(gender, None)])\n",
    "        for net in networks_to_run:\n",
    "            analysis.run_analysis(analysis_type, attrib, [(None, net)])\n",
    "        print('Single constraints done!')\n",
    "        # both constraints\n",
    "        for gender in genders_to_run:\n",
    "            for net in networks_to_run:\n",
    "                analysis.run_analysis(analysis_type, attrib, [(gender, net)])\n",
    "        print('Combined constraints done!')"
   ]
  },
  {
   "cell_type": "markdown",
   "metadata": {},
   "source": [
    "# Can Run Individually"
   ]
  },
  {
   "cell_type": "code",
   "execution_count": null,
   "metadata": {
    "collapsed": false
   },
   "outputs": [],
   "source": [
    "data_file = '../data/newsAnchor_all_data_random.pkl'\n",
    "data = pickle.load(open(data_file, 'rb'), encoding='latin1')"
   ]
  },
  {
   "cell_type": "code",
   "execution_count": null,
   "metadata": {
    "collapsed": false
   },
   "outputs": [],
   "source": [
    "import tz_util\n",
    "from datetime import datetime, timezone\n",
    "\n",
    "network_dict = {'FOXNEWS' : 0, 'CNN' : 1, 'MSNBC' : 2}\n",
    "gender_dict = {'F' : 0, 'M' : 1}\n",
    "\n",
    "date = []\n",
    "time = []\n",
    "network = []\n",
    "gender = []\n",
    "attributes = []\n",
    "for anchor in data:\n",
    "    show_info = anchor[3]\n",
    "    date_time = show_info[0]\n",
    "    gmt = datetime(date_time[0], date_time[1], date_time[2], \\\n",
    "                             date_time[3], date_time[4], date_time[5], tzinfo=timezone.utc)\n",
    "    et = gmt.astimezone(tz_util.Eastern)\n",
    "    date.append((et.year, et.month, et.day))\n",
    "    time.append((et.hour, et.minute, et.second))\n",
    "    network.append(network_dict[show_info[1]])\n",
    "    gender.append(gender_dict[anchor[5]])\n",
    "    attributes.append(anchor[6])"
   ]
  },
  {
   "cell_type": "code",
   "execution_count": null,
   "metadata": {
    "collapsed": false
   },
   "outputs": [],
   "source": [
    "print(len(data))\n",
    "test = 69026\n",
    "print(data[test])\n",
    "print(date[test])\n",
    "print(time[test])\n",
    "print(network[test])\n",
    "print(gender[test])\n",
    "print(attributes[test])"
   ]
  },
  {
   "cell_type": "code",
   "execution_count": null,
   "metadata": {
    "collapsed": true
   },
   "outputs": [],
   "source": [
    "clothing_pattern = ['solid', 'graphics', 'striped', 'floral', 'plaid', 'spotted']\n",
    "major_color = ['black', 'white', '2+ colors', 'blue', 'gray', 'red',\n",
    "                'pink', 'green', 'yellow', 'brown', 'purple', 'orange',\n",
    "                'cyan', 'dark blue']\n",
    "wearing_necktie = ['necktie no', 'necktie yes']\n",
    "collar_presence = ['collar no', 'collar yes'] \n",
    "wearing_scarf = ['scarf no', 'scarf yes']\n",
    "sleeve_length = ['long sleeve', 'short sleeve', 'no sleeve']\n",
    "neckline_shape = ['round', 'folded', 'v-shape'] \n",
    "clothing_category = ['shirt', 'outerwear', 't-shirt', 'dress',\n",
    "            'tank top', 'suit', 'sweater']\n",
    "wearing_jacket = ['jacket no', 'jacket yes']\n",
    "wearing_hat = ['hat no', 'hat yes']\n",
    "wearing_glasses = ['no glasses', 'yes glasses']\n",
    "multiple_layers = ['one layer', 'more layer']\n",
    "necktie_color = major_color\n",
    "necktie_pattern = ['solid', 'striped', 'spotted']\n",
    "hair_color = ['black', 'white', 'blond', 'brown', 'gray']\n",
    "hair_length = ['long', 'medium', 'short', 'bald']\n",
    "network_attribs = ['FOXNEWS', 'CNN', 'MSNBC']\n",
    "gender_attribs = ['Female', 'Male']"
   ]
  },
  {
   "cell_type": "markdown",
   "metadata": {},
   "source": [
    "# Major Color Over Time"
   ]
  },
  {
   "cell_type": "code",
   "execution_count": null,
   "metadata": {
    "collapsed": false
   },
   "outputs": [],
   "source": [
    "min_year = 2015\n",
    "min_month = 1\n",
    "min_day = 1\n",
    "months_per_year = 12\n",
    "weeks_per_month = 4\n",
    "days_per_month = 31\n",
    "week_length = 1.*days_per_month / weeks_per_month\n",
    "\n",
    "def calc_week_index(date):\n",
    "    year, month, day = date\n",
    "    if year < min_year:\n",
    "        idx = 0\n",
    "    else:\n",
    "        idx = (year - min_year)*months_per_year*weeks_per_month + \\\n",
    "                      (month - min_month)*weeks_per_month + int((day - min_day) / week_length)\n",
    "    return idx\n",
    "\n",
    "def date_from_index(idx, string=False):\n",
    "    year = int(1.*idx / (months_per_year*weeks_per_month)) + min_year\n",
    "    month = int((idx % (months_per_year*weeks_per_month)) / weeks_per_month) + min_month\n",
    "    day = int(((idx % (months_per_year*weeks_per_month)) % weeks_per_month)*week_length) + min_day\n",
    "    if string:\n",
    "        return str(month) + '/' + str(day) + '/' + str(year)\n",
    "    else:\n",
    "        return (year, month, day)\n",
    "        \n",
    "\n",
    "total_weeks = calc_week_index((2017, 12, 31)) - 1\n",
    "print(total_weeks)\n",
    "    \n",
    "print(calc_week_index((2015, 1, 1)))\n",
    "print(calc_week_index((2016, 1, 1)))"
   ]
  },
  {
   "cell_type": "markdown",
   "metadata": {},
   "source": [
    "### Total Colors"
   ]
  },
  {
   "cell_type": "code",
   "execution_count": null,
   "metadata": {
    "collapsed": false
   },
   "outputs": [],
   "source": [
    "# structures to hold color frequency info\n",
    "total_count = np.zeros((total_weeks))\n",
    "color_count = []\n",
    "for i in range(0, len(major_color)):\n",
    "    color_count.append(np.zeros((total_weeks)))\n",
    "\n",
    "# count frequency of each color\n",
    "for i in range(0, len(data)):\n",
    "    week_idx = calc_week_index(date[i])\n",
    "    color = attributes[i][1]\n",
    "    color_count[color][week_idx] += 1\n",
    "    total_count[week_idx] += 1\n",
    "\n",
    "print(total_count[-1])"
   ]
  },
  {
   "cell_type": "code",
   "execution_count": null,
   "metadata": {
    "collapsed": false
   },
   "outputs": [],
   "source": [
    "from scipy.signal import savgol_filter\n",
    "import datetime\n",
    "\n",
    "xraw = np.arange(0, total_weeks)\n",
    "\n",
    "xdates = []\n",
    "for i in range(0, xraw.shape[0]):\n",
    "    cur_date = date_from_index(i)\n",
    "    xdates.append(cur_date)\n",
    "xdate_objs = [datetime.date(year, month, day) for (year, month, day) in xdates]\n",
    "year_dates = [xdate_objs[48], xdate_objs[96]]\n",
    "\n",
    "# find percentage and plot\n",
    "for i in range(0, len(major_color)):\n",
    "    nocount_inds = np.where(total_count == 0)[0]\n",
    "    total_count[nocount_inds] = sys.maxsize\n",
    "    color_freq = color_count[i] / total_count\n",
    "    # smooth data\n",
    "    color_smooth = savgol_filter(color_freq, 15, 3)\n",
    "    # plot\n",
    "    plt.figure(figsize=(12, 4))\n",
    "    plt.plot(xdate_objs, color_freq, 'bo-', alpha=0.3)\n",
    "    plt.plot(xdate_objs, color_smooth, 'r-')\n",
    "    plt.axvline(x=year_dates[0], linestyle='--')\n",
    "    plt.axvline(x=year_dates[1], linestyle='--')\n",
    "    plt.xlabel('Year-Month')\n",
    "    plt.ylabel('Percent Frequency')\n",
    "    plt.suptitle(major_color[i].capitalize())\n",
    "    plt.savefig('./results/all_' + major_color[i].replace(' ', '') + '.png')"
   ]
  },
  {
   "cell_type": "markdown",
   "metadata": {},
   "source": [
    "### Women Colors"
   ]
  },
  {
   "cell_type": "code",
   "execution_count": null,
   "metadata": {
    "collapsed": false
   },
   "outputs": [],
   "source": [
    "# structures to hold color frequency info\n",
    "total_count = np.zeros((total_weeks))\n",
    "color_count = []\n",
    "for i in range(0, len(major_color)):\n",
    "    color_count.append(np.zeros((total_weeks)))\n",
    "\n",
    "# count frequency of each color\n",
    "for i in range(0, len(data)):\n",
    "    if gender[i] == gender_dict['F']:\n",
    "        week_idx = calc_week_index(date[i])\n",
    "        color = attributes[i][1]\n",
    "        color_count[color][week_idx] += 1\n",
    "        total_count[week_idx] += 1"
   ]
  },
  {
   "cell_type": "code",
   "execution_count": null,
   "metadata": {
    "collapsed": false
   },
   "outputs": [],
   "source": [
    "from scipy.signal import savgol_filter\n",
    "import datetime\n",
    "\n",
    "xraw = np.arange(0, total_weeks)\n",
    "\n",
    "xdates = []\n",
    "for i in range(0, xraw.shape[0]):\n",
    "    cur_date = date_from_index(i)\n",
    "    xdates.append(cur_date)\n",
    "xdate_objs = [datetime.date(year, month, day) for (year, month, day) in xdates]\n",
    "year_dates = [xdate_objs[48], xdate_objs[96]]\n",
    "\n",
    "# find percentage and plot\n",
    "for i in range(0, len(major_color)):\n",
    "    nocount_inds = np.where(total_count == 0)[0]\n",
    "    total_count[nocount_inds] = sys.maxsize\n",
    "    color_freq = color_count[i] / total_count\n",
    "    # smooth data\n",
    "    color_smooth = savgol_filter(color_freq, 15, 3)\n",
    "    # plot\n",
    "    plt.figure(figsize=(12, 4))\n",
    "    plt.plot(xdate_objs, color_freq, 'bo-', alpha=0.3)\n",
    "    plt.plot(xdate_objs, color_smooth, 'r-')\n",
    "    plt.axvline(x=year_dates[0], linestyle='--')\n",
    "    plt.axvline(x=year_dates[1], linestyle='--')\n",
    "    plt.xlabel('Year-Month')\n",
    "    plt.ylabel('Percent Frequency')\n",
    "    plt.suptitle('Female - ' + major_color[i].capitalize())\n",
    "    plt.savefig('./results/female_' + major_color[i].replace(' ', '') + '.png')"
   ]
  },
  {
   "cell_type": "markdown",
   "metadata": {},
   "source": [
    "### Male Colors"
   ]
  },
  {
   "cell_type": "code",
   "execution_count": null,
   "metadata": {
    "collapsed": true
   },
   "outputs": [],
   "source": [
    "# structures to hold color frequency info\n",
    "total_count = np.zeros((total_weeks))\n",
    "color_count = []\n",
    "for i in range(0, len(major_color)):\n",
    "    color_count.append(np.zeros((total_weeks)))\n",
    "\n",
    "# count frequency of each color\n",
    "for i in range(0, len(data)):\n",
    "    if gender[i] == gender_dict['M']:\n",
    "        week_idx = calc_week_index(date[i])\n",
    "        color = attributes[i][1]\n",
    "        color_count[color][week_idx] += 1\n",
    "        total_count[week_idx] += 1"
   ]
  },
  {
   "cell_type": "code",
   "execution_count": null,
   "metadata": {
    "collapsed": false
   },
   "outputs": [],
   "source": [
    "from scipy.signal import savgol_filter\n",
    "import datetime\n",
    "\n",
    "xraw = np.arange(0, total_weeks)\n",
    "\n",
    "xdates = []\n",
    "for i in range(0, xraw.shape[0]):\n",
    "    cur_date = date_from_index(i)\n",
    "    xdates.append(cur_date)\n",
    "xdate_objs = [datetime.date(year, month, day) for (year, month, day) in xdates]\n",
    "year_dates = [xdate_objs[48], xdate_objs[96]]\n",
    "\n",
    "# find percentage and plot\n",
    "for i in range(0, len(major_color)):\n",
    "    nocount_inds = np.where(total_count == 0)[0]\n",
    "    total_count[nocount_inds] = sys.maxsize\n",
    "    color_freq = color_count[i] / total_count\n",
    "    # smooth data\n",
    "    color_smooth = savgol_filter(color_freq, 15, 3)\n",
    "    # plot\n",
    "    plt.figure(figsize=(12, 4))\n",
    "    plt.plot(xdate_objs, color_freq, 'bo-', alpha=0.3)\n",
    "    plt.plot(xdate_objs, color_smooth, 'r-')\n",
    "    plt.axvline(x=year_dates[0], linestyle='--')\n",
    "    plt.axvline(x=year_dates[1], linestyle='--')\n",
    "    plt.xlabel('Year-Month')\n",
    "    plt.ylabel('Percent Frequency')\n",
    "    plt.suptitle('Male - ' + major_color[i].capitalize())\n",
    "    plt.savefig('./results/male_' + major_color[i].replace(' ', '') + '.png')"
   ]
  },
  {
   "cell_type": "markdown",
   "metadata": {},
   "source": [
    "### CNN"
   ]
  },
  {
   "cell_type": "code",
   "execution_count": null,
   "metadata": {
    "collapsed": true
   },
   "outputs": [],
   "source": [
    "# structures to hold color frequency info\n",
    "total_count = np.zeros((total_weeks))\n",
    "color_count = []\n",
    "for i in range(0, len(major_color)):\n",
    "    color_count.append(np.zeros((total_weeks)))\n",
    "\n",
    "# count frequency of each color\n",
    "for i in range(0, len(data)):\n",
    "    if network[i] == network_dict['CNN']:\n",
    "        week_idx = calc_week_index(date[i])\n",
    "        color = attributes[i][1]\n",
    "        color_count[color][week_idx] += 1\n",
    "        total_count[week_idx] += 1"
   ]
  },
  {
   "cell_type": "code",
   "execution_count": null,
   "metadata": {
    "collapsed": false
   },
   "outputs": [],
   "source": [
    "from scipy.signal import savgol_filter\n",
    "import datetime\n",
    "\n",
    "xraw = np.arange(0, total_weeks)\n",
    "\n",
    "xdates = []\n",
    "for i in range(0, xraw.shape[0]):\n",
    "    cur_date = date_from_index(i)\n",
    "    xdates.append(cur_date)\n",
    "xdate_objs = [datetime.date(year, month, day) for (year, month, day) in xdates]\n",
    "year_dates = [xdate_objs[48], xdate_objs[96]]\n",
    "\n",
    "# find percentage and plot\n",
    "for i in range(0, len(major_color)):\n",
    "    nocount_inds = np.where(total_count == 0)[0]\n",
    "    total_count[nocount_inds] = sys.maxsize\n",
    "    color_freq = color_count[i] / total_count\n",
    "    # smooth data\n",
    "    color_smooth = savgol_filter(color_freq, 15, 3)\n",
    "    # plot\n",
    "    plt.figure(figsize=(12, 4))\n",
    "    plt.plot(xdate_objs, color_freq, 'bo-', alpha=0.3)\n",
    "    plt.plot(xdate_objs, color_smooth, 'r-')\n",
    "    plt.axvline(x=year_dates[0], linestyle='--')\n",
    "    plt.axvline(x=year_dates[1], linestyle='--')\n",
    "    plt.xlabel('Year-Month')\n",
    "    plt.ylabel('Percent Frequency')\n",
    "    plt.suptitle('CNN - ' + major_color[i].capitalize())\n",
    "    plt.savefig('./results/cnn_' + major_color[i].replace(' ', '') + '.png')"
   ]
  },
  {
   "cell_type": "markdown",
   "metadata": {},
   "source": [
    "### FOX"
   ]
  },
  {
   "cell_type": "code",
   "execution_count": null,
   "metadata": {
    "collapsed": true
   },
   "outputs": [],
   "source": [
    "# structures to hold color frequency info\n",
    "total_count = np.zeros((total_weeks))\n",
    "color_count = []\n",
    "for i in range(0, len(major_color)):\n",
    "    color_count.append(np.zeros((total_weeks)))\n",
    "\n",
    "# count frequency of each color\n",
    "for i in range(0, len(data)):\n",
    "    if network[i] == network_dict['FOXNEWS']:\n",
    "        week_idx = calc_week_index(date[i])\n",
    "        color = attributes[i][1]\n",
    "        color_count[color][week_idx] += 1\n",
    "        total_count[week_idx] += 1"
   ]
  },
  {
   "cell_type": "code",
   "execution_count": null,
   "metadata": {
    "collapsed": false
   },
   "outputs": [],
   "source": [
    "from scipy.signal import savgol_filter\n",
    "import datetime\n",
    "\n",
    "xraw = np.arange(0, total_weeks)\n",
    "\n",
    "xdates = []\n",
    "for i in range(0, xraw.shape[0]):\n",
    "    cur_date = date_from_index(i)\n",
    "    xdates.append(cur_date)\n",
    "xdate_objs = [datetime.date(year, month, day) for (year, month, day) in xdates]\n",
    "year_dates = [xdate_objs[48], xdate_objs[96]]\n",
    "\n",
    "# find percentage and plot\n",
    "for i in range(0, len(major_color)):\n",
    "    nocount_inds = np.where(total_count == 0)[0]\n",
    "    total_count[nocount_inds] = sys.maxsize\n",
    "    color_freq = color_count[i] / total_count\n",
    "    # smooth data\n",
    "    color_smooth = savgol_filter(color_freq, 15, 3)\n",
    "    # plot\n",
    "    plt.figure(figsize=(12, 4))\n",
    "    plt.plot(xdate_objs, color_freq, 'bo-', alpha=0.3)\n",
    "    plt.plot(xdate_objs, color_smooth, 'r-')\n",
    "    plt.axvline(x=year_dates[0], linestyle='--')\n",
    "    plt.axvline(x=year_dates[1], linestyle='--')\n",
    "    plt.xlabel('Year-Month')\n",
    "    plt.ylabel('Percent Frequency')\n",
    "    plt.suptitle('FOXNEWS - ' + major_color[i].capitalize())\n",
    "    plt.savefig('./results/fox_' + major_color[i].replace(' ', '') + '.png')"
   ]
  },
  {
   "cell_type": "markdown",
   "metadata": {},
   "source": [
    "### MSNBC"
   ]
  },
  {
   "cell_type": "code",
   "execution_count": null,
   "metadata": {
    "collapsed": false
   },
   "outputs": [],
   "source": [
    "# structures to hold color frequency info\n",
    "total_count = np.zeros((total_weeks))\n",
    "color_count = []\n",
    "for i in range(0, len(major_color)):\n",
    "    color_count.append(np.zeros((total_weeks)))\n",
    "\n",
    "# count frequency of each color\n",
    "for i in range(0, len(data)):\n",
    "    if network[i] == network_dict['MSNBC']:\n",
    "        week_idx = calc_week_index(date[i])\n",
    "        color = attributes[i][1]\n",
    "        color_count[color][week_idx] += 1\n",
    "        total_count[week_idx] += 1\n",
    "        \n",
    "print(total_count[-1])\n",
    "print(color_count[3][-1])"
   ]
  },
  {
   "cell_type": "code",
   "execution_count": null,
   "metadata": {
    "collapsed": false
   },
   "outputs": [],
   "source": [
    "from scipy.signal import savgol_filter\n",
    "import datetime\n",
    "\n",
    "xraw = np.arange(0, total_weeks)\n",
    "\n",
    "xdates = []\n",
    "for i in range(0, xraw.shape[0]):\n",
    "    cur_date = date_from_index(i)\n",
    "    xdates.append(cur_date)\n",
    "xdate_objs = [datetime.date(year, month, day) for (year, month, day) in xdates]\n",
    "year_dates = [xdate_objs[48], xdate_objs[96]]\n",
    "\n",
    "# find percentage and plot\n",
    "for i in range(0, len(major_color)):\n",
    "    nocount_inds = np.where(total_count == 0)[0]\n",
    "    total_count[nocount_inds] = sys.maxsize\n",
    "    color_freq = color_count[i] / total_count\n",
    "    # smooth data\n",
    "    color_smooth = savgol_filter(color_freq, 15, 3)\n",
    "    # plot\n",
    "    plt.figure(figsize=(12, 4))\n",
    "    plt.plot(xdate_objs, color_freq, 'bo-', alpha=0.3)\n",
    "    plt.plot(xdate_objs, color_smooth, 'r-')\n",
    "    plt.axvline(x=year_dates[0], linestyle='--')\n",
    "    plt.axvline(x=year_dates[1], linestyle='--')\n",
    "    plt.xlabel('Year-Month')\n",
    "    plt.ylabel('Percent Frequency')\n",
    "    plt.suptitle('MSNBC - ' + major_color[i].capitalize())\n",
    "    plt.savefig('./results/msnbc_' + major_color[i].replace(' ', '') + '.png')"
   ]
  },
  {
   "cell_type": "markdown",
   "metadata": {},
   "source": [
    "### Bin by Day"
   ]
  },
  {
   "cell_type": "code",
   "execution_count": null,
   "metadata": {
    "collapsed": false
   },
   "outputs": [],
   "source": [
    "# structures to hold color frequency info\n",
    "total_count = {}\n",
    "color_count = []\n",
    "for i in range(0, len(major_color)):\n",
    "    color_count.append({})\n",
    "    \n",
    "# count frequency of each color\n",
    "for i in range(0, len(data)):\n",
    "    cur_date = date[i]\n",
    "    color = attributes[i][1]\n",
    "    if cur_date in color_count[color]:\n",
    "        color_count[color][cur_date] += 1\n",
    "    else:\n",
    "        color_count[color][cur_date] = 1\n",
    "    if cur_date in total_count:\n",
    "        total_count[cur_date] += 1\n",
    "    else:\n",
    "        total_count[cur_date] = 1\n",
    "        \n",
    "# calc frequencies\n",
    "color_freqs = [np.zeros((len(total_count))) for i in range(0, len(major_color))]\n",
    "counted_dates = sorted(total_count.keys())\n",
    "xdates = []\n",
    "year_dates = []\n",
    "for i, counted_date in enumerate(counted_dates):\n",
    "    for j, color_freq in enumerate(color_freqs):\n",
    "        if counted_date in color_count[j]:\n",
    "            color_freq[i] = 1.*color_count[j][counted_date] / total_count[counted_date]\n",
    "        else:\n",
    "            color_freq[i] = 0.\n",
    "    if i % 107 == 0:\n",
    "        year, month, day = counted_date\n",
    "        xdates.append(datetime.date(year, month, day).strftime('%b %y'))\n",
    "    if counted_date == (2016, 1, 1) or counted_date == (2017, 1, 1):\n",
    "        year_dates.append(i)\n",
    "print(year_dates)\n",
    "print(xdates)"
   ]
  },
  {
   "cell_type": "code",
   "execution_count": null,
   "metadata": {
    "collapsed": false
   },
   "outputs": [],
   "source": [
    "from scipy.signal import savgol_filter\n",
    "import matplotlib.ticker as plticker\n",
    "\n",
    "# plot\n",
    "xraw = np.arange(0, len(counted_dates))\n",
    "for i in range(0, len(major_color)):\n",
    "    color_freq = color_freqs[i]\n",
    "    # smooth data\n",
    "    color_smooth = savgol_filter(color_freq, 51, 3)\n",
    "    # plot\n",
    "    plt.figure(figsize=(12, 4))\n",
    "    plt.xticks(xraw, xdates)\n",
    "    plt.locator_params(axis='x', nbins=10)\n",
    "    plt.plot(xraw, color_freq, 'bo-', alpha=0.3)\n",
    "    plt.plot(xraw, color_smooth, 'r-')\n",
    "    plt.axvline(x=year_dates[0], linestyle='--')\n",
    "    plt.axvline(x=year_dates[1], linestyle='--')\n",
    "    plt.xlabel('Date')\n",
    "    plt.ylabel('Percent Frequency')\n",
    "    plt.suptitle(major_color[i].capitalize())\n",
    "    plt.savefig('./results/all_byday_' + major_color[i].replace(' ', '') + '.png')"
   ]
  },
  {
   "cell_type": "markdown",
   "metadata": {},
   "source": [
    "# Clothing Category Over Time"
   ]
  },
  {
   "cell_type": "markdown",
   "metadata": {},
   "source": [
    "### All Anchors"
   ]
  },
  {
   "cell_type": "code",
   "execution_count": null,
   "metadata": {
    "collapsed": false
   },
   "outputs": [],
   "source": [
    "# structures to hold color frequency info\n",
    "total_count = np.zeros((total_weeks))\n",
    "category_count = []\n",
    "for i in range(0, len(clothing_category)):\n",
    "    category_count.append(np.zeros((total_weeks)))\n",
    "\n",
    "# count frequency of each color\n",
    "for i in range(0, len(data)):\n",
    "    week_idx = calc_week_index(date[i])\n",
    "    category = attributes[i][7]\n",
    "    category_count[category][week_idx] += 1\n",
    "    total_count[week_idx] += 1"
   ]
  },
  {
   "cell_type": "code",
   "execution_count": null,
   "metadata": {
    "collapsed": false
   },
   "outputs": [],
   "source": [
    "from scipy.signal import savgol_filter\n",
    "import datetime\n",
    "\n",
    "xraw = np.arange(0, total_weeks)\n",
    "\n",
    "xdates = []\n",
    "for i in range(0, xraw.shape[0]):\n",
    "    cur_date = date_from_index(i)\n",
    "    xdates.append(cur_date)\n",
    "xdate_objs = [datetime.date(year, month, day) for (year, month, day) in xdates]\n",
    "year_dates = [xdate_objs[48], xdate_objs[96]]\n",
    "\n",
    "# find percentage and plot\n",
    "for i in range(0, len(clothing_category)):\n",
    "    nocount_inds = np.where(total_count == 0)[0]\n",
    "    total_count[nocount_inds] = sys.maxsize\n",
    "    category_freq = category_count[i] / total_count\n",
    "    # smooth data\n",
    "    category_smooth = savgol_filter(category_freq, 15, 3)\n",
    "    # plot\n",
    "    plt.figure(figsize=(12, 4))\n",
    "    plt.plot(xdate_objs, category_freq, 'bo-', alpha=0.3)\n",
    "    plt.plot(xdate_objs, category_smooth, 'r-')\n",
    "    plt.axvline(x=year_dates[0], linestyle='--')\n",
    "    plt.axvline(x=year_dates[1], linestyle='--')\n",
    "    plt.xlabel('Year-Month')\n",
    "    plt.ylabel('Percent Frequency')\n",
    "    plt.suptitle(clothing_category[i].capitalize())\n",
    "    plt.savefig('./results/all_' + clothing_category[i].replace(' ', '') + '.png')"
   ]
  },
  {
   "cell_type": "markdown",
   "metadata": {},
   "source": [
    "### Female"
   ]
  },
  {
   "cell_type": "code",
   "execution_count": null,
   "metadata": {
    "collapsed": true
   },
   "outputs": [],
   "source": [
    "# structures to hold color frequency info\n",
    "total_count = np.zeros((total_weeks))\n",
    "category_count = []\n",
    "for i in range(0, len(clothing_category)):\n",
    "    category_count.append(np.zeros((total_weeks)))\n",
    "\n",
    "# count frequency of each color\n",
    "for i in range(0, len(data)):\n",
    "    if gender[i] == gender_dict['F']:\n",
    "        week_idx = calc_week_index(date[i])\n",
    "        category = attributes[i][7]\n",
    "        category_count[category][week_idx] += 1\n",
    "        total_count[week_idx] += 1"
   ]
  },
  {
   "cell_type": "code",
   "execution_count": null,
   "metadata": {
    "collapsed": false
   },
   "outputs": [],
   "source": [
    "from scipy.signal import savgol_filter\n",
    "import datetime\n",
    "\n",
    "xraw = np.arange(0, total_weeks)\n",
    "\n",
    "xdates = []\n",
    "for i in range(0, xraw.shape[0]):\n",
    "    cur_date = date_from_index(i)\n",
    "    xdates.append(cur_date)\n",
    "xdate_objs = [datetime.date(year, month, day) for (year, month, day) in xdates]\n",
    "year_dates = [xdate_objs[48], xdate_objs[96]]\n",
    "\n",
    "# find percentage and plot\n",
    "for i in range(0, len(clothing_category)):\n",
    "    nocount_inds = np.where(total_count == 0)[0]\n",
    "    total_count[nocount_inds] = sys.maxsize\n",
    "    category_freq = category_count[i] / total_count\n",
    "    # smooth data\n",
    "    category_smooth = savgol_filter(category_freq, 15, 3)\n",
    "    # plot\n",
    "    plt.figure(figsize=(12, 4))\n",
    "    plt.plot(xdate_objs, category_freq, 'bo-', alpha=0.3)\n",
    "    plt.plot(xdate_objs, category_smooth, 'r-')\n",
    "    plt.axvline(x=year_dates[0], linestyle='--')\n",
    "    plt.axvline(x=year_dates[1], linestyle='--')\n",
    "    plt.xlabel('Year-Month')\n",
    "    plt.ylabel('Percent Frequency')\n",
    "    plt.suptitle('Female - ' + clothing_category[i].capitalize())\n",
    "    plt.savefig('./results/female_' + clothing_category[i].replace(' ', '') + '.png')"
   ]
  },
  {
   "cell_type": "markdown",
   "metadata": {},
   "source": [
    "### Male"
   ]
  },
  {
   "cell_type": "code",
   "execution_count": null,
   "metadata": {
    "collapsed": true
   },
   "outputs": [],
   "source": [
    "# structures to hold color frequency info\n",
    "total_count = np.zeros((total_weeks))\n",
    "category_count = []\n",
    "for i in range(0, len(clothing_category)):\n",
    "    category_count.append(np.zeros((total_weeks)))\n",
    "\n",
    "# count frequency of each color\n",
    "for i in range(0, len(data)):\n",
    "    if gender[i] == gender_dict['M']:\n",
    "        week_idx = calc_week_index(date[i])\n",
    "        category = attributes[i][7]\n",
    "        category_count[category][week_idx] += 1\n",
    "        total_count[week_idx] += 1"
   ]
  },
  {
   "cell_type": "code",
   "execution_count": null,
   "metadata": {
    "collapsed": false
   },
   "outputs": [],
   "source": [
    "from scipy.signal import savgol_filter\n",
    "import datetime\n",
    "\n",
    "xraw = np.arange(0, total_weeks)\n",
    "\n",
    "xdates = []\n",
    "for i in range(0, xraw.shape[0]):\n",
    "    cur_date = date_from_index(i)\n",
    "    xdates.append(cur_date)\n",
    "xdate_objs = [datetime.date(year, month, day) for (year, month, day) in xdates]\n",
    "year_dates = [xdate_objs[48], xdate_objs[96]]\n",
    "\n",
    "# find percentage and plot\n",
    "for i in range(0, len(clothing_category)):\n",
    "    nocount_inds = np.where(total_count == 0)[0]\n",
    "    total_count[nocount_inds] = sys.maxsize\n",
    "    category_freq = category_count[i] / total_count\n",
    "    # smooth data\n",
    "    category_smooth = savgol_filter(category_freq, 15, 3)\n",
    "    # plot\n",
    "    plt.figure(figsize=(12, 4))\n",
    "    plt.plot(xdate_objs, category_freq, 'bo-', alpha=0.3)\n",
    "    plt.plot(xdate_objs, category_smooth, 'r-')\n",
    "    plt.axvline(x=year_dates[0], linestyle='--')\n",
    "    plt.axvline(x=year_dates[1], linestyle='--')\n",
    "    plt.xlabel('Year-Month')\n",
    "    plt.ylabel('Percent Frequency')\n",
    "    plt.suptitle('Male - ' + clothing_category[i].capitalize())\n",
    "    plt.savefig('./results/male_' + clothing_category[i].replace(' ', '') + '.png')"
   ]
  },
  {
   "cell_type": "markdown",
   "metadata": {},
   "source": [
    "# Glasses Over Time"
   ]
  },
  {
   "cell_type": "code",
   "execution_count": null,
   "metadata": {
    "collapsed": false
   },
   "outputs": [],
   "source": [
    "total_count = np.zeros((total_weeks))\n",
    "glasses_count = np.zeros((total_weeks))\n",
    "\n",
    "for i in range(0, len(data)):\n",
    "    week_idx = calc_week_index(date[i])\n",
    "    has_glasses = attributes[i][10]\n",
    "    glasses_count[week_idx] += has_glasses\n",
    "    total_count[week_idx] += has_glasses"
   ]
  },
  {
   "cell_type": "code",
   "execution_count": null,
   "metadata": {
    "collapsed": false
   },
   "outputs": [],
   "source": [
    "from scipy.signal import savgol_filter\n",
    "import datetime\n",
    "\n",
    "xraw = np.arange(0, total_weeks)\n",
    "\n",
    "xdates = []\n",
    "for i in range(0, xraw.shape[0]):\n",
    "    cur_date = date_from_index(i)\n",
    "    xdates.append(cur_date)\n",
    "xdate_objs = [datetime.date(year, month, day) for (year, month, day) in xdates]\n",
    "year_dates = [xdate_objs[48], xdate_objs[96]]\n",
    "\n",
    "# find percentage and plot\n",
    "nocount_inds = np.where(total_count == 0)[0]\n",
    "total_count[nocount_inds] = sys.maxsize\n",
    "glasses_freq = glasses_count / total_count\n",
    "# smooth data\n",
    "glasses_smooth = savgol_filter(glasses_freq, 15, 3)\n",
    "# plot\n",
    "plt.figure(figsize=(12, 4))\n",
    "plt.plot(xdate_objs, category_freq, 'bo-', alpha=0.3)\n",
    "plt.plot(xdate_objs, category_smooth, 'r-')\n",
    "plt.axvline(x=year_dates[0], linestyle='--')\n",
    "plt.axvline(x=year_dates[1], linestyle='--')\n",
    "plt.xlabel('Year-Month')\n",
    "plt.ylabel('Percent Frequency')\n",
    "plt.suptitle(wearing_glasses[1].capitalize())\n",
    "plt.savefig('./results/all_' + wearing_glasses[1].replace(' ', '') + '.png')"
   ]
  },
  {
   "cell_type": "markdown",
   "metadata": {},
   "source": [
    "# Clothing Category Throughout Single Day"
   ]
  },
  {
   "cell_type": "code",
   "execution_count": null,
   "metadata": {
    "collapsed": false
   },
   "outputs": [],
   "source": [
    "min_year = 2015\n",
    "min_month = 1\n",
    "min_day = 1\n",
    "months_per_year = 12\n",
    "weeks_per_month = 4\n",
    "days_per_month = 31\n",
    "week_length = 1.*days_per_month / weeks_per_month\n",
    "\n",
    "def calc_time_index(time):\n",
    "    ''' Bin in half hours. '''\n",
    "    hour, minute, _ = time\n",
    "    idx = hour*2 + int(1.*minute / 30)\n",
    "    return idx\n",
    "\n",
    "def time_from_idx(idx):\n",
    "    hour = int(1.*idx / 2)\n",
    "    minute = (idx % 2)*30\n",
    "    second = 0\n",
    "    return (hour, minute, second)\n",
    "        \n",
    "\n",
    "total_half_hours = calc_time_index((23, 59, 59)) + 1\n",
    "print(total_half_hours)\n",
    "print(calc_time_index((0, 54, 0)))\n",
    "print(calc_time_index((23, 36, 1)))"
   ]
  },
  {
   "cell_type": "markdown",
   "metadata": {},
   "source": [
    "### Everyone all networks"
   ]
  },
  {
   "cell_type": "code",
   "execution_count": null,
   "metadata": {
    "collapsed": true
   },
   "outputs": [],
   "source": [
    "total_count = np.zeros((total_half_hours))\n",
    "category_count = []\n",
    "for i in range(0, len(clothing_category)):\n",
    "    category_count.append(np.zeros((total_half_hours)))\n",
    "\n",
    "# count frequency of each color\n",
    "for i in range(0, len(data)):\n",
    "    time_idx = calc_time_index(time[i])\n",
    "    category = attributes[i][7]\n",
    "    category_count[category][time_idx] += 1\n",
    "    total_count[time_idx] += 1"
   ]
  },
  {
   "cell_type": "code",
   "execution_count": null,
   "metadata": {
    "collapsed": false
   },
   "outputs": [],
   "source": [
    "from scipy.signal import savgol_filter\n",
    "import datetime\n",
    "\n",
    "xraw = np.arange(0, total_half_hours)\n",
    "\n",
    "xtimes = []\n",
    "for i in range(0, xraw.shape[0]):\n",
    "    if i % 4 == 0:\n",
    "        cur_time = time_from_idx(i)\n",
    "        xtimes.append(cur_time)\n",
    "xtime_objs = [datetime.time(hour, minute, second).isoformat() for (hour, minute, second) in xtimes]\n",
    "\n",
    "# find percentage and plot\n",
    "for i in range(0, len(clothing_category)):\n",
    "    nocount_inds = np.where(total_count == 0)[0]\n",
    "    total_count[nocount_inds] = sys.maxsize\n",
    "    category_freq = category_count[i] / total_count\n",
    "    # smooth data\n",
    "    category_smooth = savgol_filter(category_freq, 5, 3)\n",
    "    # plot\n",
    "    plt.figure(figsize=(12, 4))\n",
    "    plt.xticks(xraw, xtime_objs)\n",
    "    plt.locator_params(axis='x', nbins=12)\n",
    "    plt.plot(xraw, category_freq, 'bo-', alpha=0.3)\n",
    "    plt.plot(xraw, category_smooth, 'r-')\n",
    "    plt.xlabel('Time (Eastern)')\n",
    "    plt.ylabel('Percent Frequency')\n",
    "    plt.suptitle(clothing_category[i].capitalize())\n",
    "    plt.savefig('./results/all_day_' + clothing_category[i].replace(' ', '') + '.png')"
   ]
  },
  {
   "cell_type": "code",
   "execution_count": null,
   "metadata": {
    "collapsed": true
   },
   "outputs": [],
   "source": []
  }
 ],
 "metadata": {
  "kernelspec": {
   "display_name": "Python 3",
   "language": "python",
   "name": "python3"
  },
  "language_info": {
   "codemirror_mode": {
    "name": "ipython",
    "version": 3
   },
   "file_extension": ".py",
   "mimetype": "text/x-python",
   "name": "python",
   "nbconvert_exporter": "python",
   "pygments_lexer": "ipython3",
   "version": "3.5.2"
  }
 },
 "nbformat": 4,
 "nbformat_minor": 0
}
